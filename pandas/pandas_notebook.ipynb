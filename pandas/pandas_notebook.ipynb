{
 "cells": [
  {
   "metadata": {},
   "cell_type": "markdown",
   "source": [
    "### Pandas\n",
    "\n",
    "* Tabular data with heterogeneously-typed columns, as in an SQL table or Excel spreadsheet\n",
    "* Ordered and unordered (not necessarily fixed-frequency) time series data.\n",
    "* Arbitrary matrix data (homogeneously typed or heterogeneous) with row and column labels\n",
    "* Any other form of observational / statistical data sets. The data need not be labeled at all to be placed into a pandas data structure\n",
    "* Easy handling of missing data (represented as NaN) in floating point as well as non-floating point data\n",
    "* Size mutability: columns can be inserted and deleted from DataFrame and higher dimensional objects\n",
    "* Automatic and explicit data alignment: objects can be explicitly aligned to a set of labels, or the user can simply ignore the labels and let Series, DataFrame, etc. automatically align the data for you in computations\n",
    "* Powerful, flexible group by functionality to perform split-apply-combine operations on data sets, for both aggregating and transforming data\n",
    "* Make it easy to convert ragged, differently-indexed data in other Python and NumPy data structures into DataFrame objects\n",
    "* Intelligent label-based slicing, fancy indexing, and subsetting of large data sets\n",
    "* Intuitive merging and joining data sets\n",
    "* Flexible reshaping and pivoting of data sets\n",
    "* Hierarchical labeling of axes (possible to have multiple labels per tick)\n",
    "* Robust IO tools for loading data from flat files (CSV and delimited), Excel files, databases, and saving / loading data from the ultrafast HDF5 format\n",
    "* Time series-specific functionality: date range generation and frequency conversion, moving window statistics, date shifting, and lagging.\n",
    "\n",
    "#### Documentation:\n",
    "\n",
    "[Package Overview](https://pandas.pydata.org/docs/getting_started/overview.html)\n",
    "\n",
    "[Reference](https://pandas.pydata.org/docs/reference/io.html#flat-file)"
   ],
   "id": "99c7eea434c603b5"
  },
  {
   "metadata": {
    "collapsed": true,
    "ExecuteTime": {
     "end_time": "2025-07-22T21:27:54.065820Z",
     "start_time": "2025-07-22T21:27:53.940845Z"
    }
   },
   "cell_type": "code",
   "source": [
    "import pandas as pd\n",
    "import os\n",
    "\n",
    "OUTPUT_FOLDER = \"../resources/output\"\n",
    "WEATHER_FILE = \"../resources/weather_data.csv\"\n",
    "STUDENTS_FILE = OUTPUT_FOLDER + \"/students_data.csv\"\n",
    "\n",
    "os.makedirs(OUTPUT_FOLDER, exist_ok=True)\n",
    "\n",
    "weather_df = pd.read_csv(WEATHER_FILE)\n",
    "print(type(weather_df))\n",
    "print(type(weather_df[\"temp\"]))\n",
    "\n",
    "weather_dicts = weather_df.to_dict()\n",
    "print(f\"DF to dictionary of dictionaries: {weather_dicts[\"temp\"]}\")\n",
    "temperature_list = weather_df[\"temp\"].to_list()\n",
    "print(f\"Series to list: {temperature_list}\")\n",
    "\n",
    "print(\"Data analysis on series:\")\n",
    "print(f\"Average temperatures: {weather_df.temp.mean()}\")\n",
    "print(f\"Max temperature: {weather_df.temp.max()}\")\n",
    "\n",
    "max_temp_slice = weather_df[weather_df.temp == weather_df.temp.max()]\n",
    "hotter_days_slice = weather_df[weather_df.temp > weather_df.temp.mean()]\n",
    "print(f\"Slice row with the max temperature:\\n {max_temp_slice}\")\n",
    "print(f\"List of hotter than average days: {hotter_days_slice.day.to_list()}\")\n",
    "\n",
    "# create dataframe from dictionary:\n",
    "students_dict = {\n",
    "    \"student\": [\"Amy\", \"James\", \"Angela\"],\n",
    "    \"score\": [76, 56, 65]\n",
    "}\n",
    "\n",
    "students_df = pd.DataFrame(students_dict)\n",
    "print(students_df)\n",
    "\n",
    "# loop through each of the rows of a df column:\n",
    "for (index, row) in students_df.iterrows():\n",
    "    print(f\"{index} - {row.student} - {row.score}\")\n",
    "\n",
    "# create csv from DataFrame:\n",
    "students_df.to_csv(STUDENTS_FILE)\n"
   ],
   "id": "initial_id",
   "outputs": [
    {
     "ename": "AttributeError",
     "evalue": "module 'pandas' has no attribute 'read_csv'",
     "output_type": "error",
     "traceback": [
      "\u001B[31m---------------------------------------------------------------------------\u001B[39m",
      "\u001B[31mAttributeError\u001B[39m                            Traceback (most recent call last)",
      "\u001B[36mCell\u001B[39m\u001B[36m \u001B[39m\u001B[32mIn[1]\u001B[39m\u001B[32m, line 10\u001B[39m\n\u001B[32m      6\u001B[39m STUDENTS_FILE = OUTPUT_FOLDER + \u001B[33m\"\u001B[39m\u001B[33m/students_data.csv\u001B[39m\u001B[33m\"\u001B[39m\n\u001B[32m      8\u001B[39m os.makedirs(OUTPUT_FOLDER, exist_ok=\u001B[38;5;28;01mTrue\u001B[39;00m)\n\u001B[32m---> \u001B[39m\u001B[32m10\u001B[39m weather_df = \u001B[43mpd\u001B[49m\u001B[43m.\u001B[49m\u001B[43mread_csv\u001B[49m(WEATHER_FILE)\n\u001B[32m     11\u001B[39m \u001B[38;5;28mprint\u001B[39m(\u001B[38;5;28mtype\u001B[39m(weather_df))\n\u001B[32m     12\u001B[39m \u001B[38;5;28mprint\u001B[39m(\u001B[38;5;28mtype\u001B[39m(weather_df[\u001B[33m\"\u001B[39m\u001B[33mtemp\u001B[39m\u001B[33m\"\u001B[39m]))\n",
      "\u001B[31mAttributeError\u001B[39m: module 'pandas' has no attribute 'read_csv'"
     ]
    }
   ],
   "execution_count": 1
  }
 ],
 "metadata": {
  "kernelspec": {
   "display_name": "Python 3",
   "language": "python",
   "name": "python3"
  },
  "language_info": {
   "codemirror_mode": {
    "name": "ipython",
    "version": 2
   },
   "file_extension": ".py",
   "mimetype": "text/x-python",
   "name": "python",
   "nbconvert_exporter": "python",
   "pygments_lexer": "ipython2",
   "version": "2.7.6"
  }
 },
 "nbformat": 4,
 "nbformat_minor": 5
}
