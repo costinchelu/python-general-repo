{
 "cells": [
  {
   "metadata": {},
   "cell_type": "markdown",
   "source": [
    "### File operations\n",
    "\n",
    "* using the `with ... as...`: we will not need to explicitly close the file resource\n",
    "* when using `open()` we have several modes:\n",
    "*       \"r\" read only\n",
    "*       \"w\" overwrite the contents of the file\n",
    "*       \"a\" append to the file\n",
    "* using write mode on a non existing file: a new file will be created"
   ],
   "id": "404a41e01e8840f3"
  },
  {
   "metadata": {
    "collapsed": true,
    "ExecuteTime": {
     "end_time": "2025-07-16T08:31:48.298638Z",
     "start_time": "2025-07-16T08:31:48.295298Z"
    }
   },
   "cell_type": "code",
   "source": [
    "FILE_LOCATION = \"../resources/txt_file.txt\"\n",
    "\n",
    "\n",
    "# file = open(file_location)\n",
    "# contents = file.read()\n",
    "# file.close()\n",
    "\n",
    "\n",
    "with open(FILE_LOCATION) as file:\n",
    "    contents = file.read()\n",
    "    print(contents)\n",
    "\n",
    "# with open(FILE_LOCATION, mode=\"a\") as file:\n",
    "#     file.write(\"\\nAppend new line\")"
   ],
   "id": "initial_id",
   "outputs": [
    {
     "name": "stdout",
     "output_type": "stream",
     "text": [
      "Test 1\n",
      "Test 2\n"
     ]
    }
   ],
   "execution_count": 3
  },
  {
   "metadata": {},
   "cell_type": "markdown",
   "source": [
    "### CSV file operations (no Pandas)\n",
    "* there is a csv module\n",
    "* but the best library to work with tabular data is pandas"
   ],
   "id": "2d4e971b92375bad"
  },
  {
   "metadata": {
    "ExecuteTime": {
     "end_time": "2025-07-11T06:59:54.575651Z",
     "start_time": "2025-07-11T06:59:54.572468Z"
    }
   },
   "cell_type": "code",
   "source": [
    "import csv\n",
    "\n",
    "CSV_FILE_LOCATION = \"../resources/weather_data.csv\"\n",
    "\n",
    "with open(CSV_FILE_LOCATION) as csv_file:\n",
    "    #csv_data_lines is a reader object so it must be used before the file is closed:\n",
    "    csv_data_lines = csv.reader(csv_file)\n",
    "    for line in csv_data_lines:\n",
    "        print(line)\n",
    "\n"
   ],
   "id": "cea29494e500826f",
   "outputs": [
    {
     "name": "stdout",
     "output_type": "stream",
     "text": [
      "['day', 'temp', 'condition']\n",
      "['Monday', '12', 'Sunny']\n",
      "['Tuesday', '14', 'Rain']\n",
      "['Wednesday', '15', 'Rain']\n",
      "['Thursday', '14', 'Cloudy']\n",
      "['Friday', '21', 'Sunny']\n",
      "['Saturday', '22', 'Sunny']\n",
      "['Sunday', '24', 'Sunny']\n"
     ]
    }
   ],
   "execution_count": 3
  },
  {
   "metadata": {
    "ExecuteTime": {
     "end_time": "2025-07-11T06:58:20.048824Z",
     "start_time": "2025-07-10T21:01:47.125897Z"
    }
   },
   "cell_type": "code",
   "source": [
    "import pandas as pd\n",
    "\n",
    "df = pd.read_csv(CSV_FILE_LOCATION)\n",
    "print(df)\n",
    "print(df[\"temp\"])"
   ],
   "id": "c7829d1b6b2a1a34",
   "outputs": [
    {
     "name": "stdout",
     "output_type": "stream",
     "text": [
      "         day  temp condition\n",
      "0     Monday    12     Sunny\n",
      "1    Tuesday    14      Rain\n",
      "2  Wednesday    15      Rain\n",
      "3   Thursday    14    Cloudy\n",
      "4     Friday    21     Sunny\n",
      "5   Saturday    22     Sunny\n",
      "6     Sunday    24     Sunny\n",
      "0    12\n",
      "1    14\n",
      "2    15\n",
      "3    14\n",
      "4    21\n",
      "5    22\n",
      "6    24\n",
      "Name: temp, dtype: int64\n"
     ]
    }
   ],
   "execution_count": 8
  },
  {
   "metadata": {},
   "cell_type": "markdown",
   "source": "### Working with date/time",
   "id": "e3e4afb9d5595ebc"
  },
  {
   "metadata": {
    "ExecuteTime": {
     "end_time": "2025-07-27T12:37:28.027149Z",
     "start_time": "2025-07-27T12:37:28.024406Z"
    }
   },
   "cell_type": "code",
   "source": [
    "import datetime as dt\n",
    "\n",
    "now = dt.datetime.now()\n",
    "print(now.day)\n",
    "print(now.weekday())\n",
    "\n",
    "print(dt.datetime(year=2000, month=1, day=1))\n",
    "print(dt.datetime(year=2000, month=1, day=1, hour=0, minute=1, second=1))\n",
    "\n",
    "datetime_to_str = dt.datetime.now().strftime(\"%Y%m%d\")\n",
    "print(datetime_to_str)"
   ],
   "id": "7338afe0383ffaa7",
   "outputs": [
    {
     "name": "stdout",
     "output_type": "stream",
     "text": [
      "27\n",
      "6\n",
      "2000-01-01 00:00:00\n",
      "2000-01-01 00:01:01\n",
      "20250727\n"
     ]
    }
   ],
   "execution_count": 6
  },
  {
   "metadata": {},
   "cell_type": "markdown",
   "source": "### API calls",
   "id": "80076e9743abe8b5"
  },
  {
   "metadata": {
    "ExecuteTime": {
     "end_time": "2025-07-27T12:29:11.395631Z",
     "start_time": "2025-07-27T12:29:10.816851Z"
    }
   },
   "cell_type": "code",
   "source": [
    "import requests\n",
    "\n",
    "SUN_GET_ENDPOINT = \"https://api.sunrise-sunset.org/json\"\n",
    "\n",
    "sun_get_req_params = {\n",
    "    \"lat\": 44.4375,\n",
    "    \"lng\": -26.091,\n",
    "    \"formatted\": 0\n",
    "}\n",
    "\n",
    "# GET https://api.sunrise-sunset.org/json?lat=44.4375&lng=-26.091&formatted=0\n",
    "get_response = requests.get(url=SUN_GET_ENDPOINT, params=sun_get_req_params)\n",
    "\n",
    "# raises HTTPError if status is 4xx\n",
    "get_response.raise_for_status()\n",
    "\n",
    "get_response_headers = get_response.headers\n",
    "get_response_body_dict = get_response.json()\n",
    "sunrise = get_response.json()[\"results\"][\"sunrise\"]\n",
    "sunset = get_response.json()[\"results\"][\"sunset\"]\n",
    "\n",
    "\n",
    "# https://docs.pixe.la/\n",
    "PIXELA_BASE_ENDPOINT = \"https://pixe.la/v1/users\"\n",
    "GRAPH_PATH= \"/graphs\"\n",
    "USERNAME= \"pixe.la username\"\n",
    "TOKEN = \"pixe.la token\"\n",
    "GRAPH_ID = \"graph id\"\n",
    "\n",
    "graph_endpoint = f\"{PIXELA_BASE_ENDPOINT}/{USERNAME}{GRAPH_PATH}/{GRAPH_ID}\"\n",
    "\n",
    "req_body = {\n",
    "    \"date\": \"20250701\",\n",
    "    \"quantity\": \"20.5\",\n",
    "    \"optionalData\": \"{\\\"key1\\\":\\\"val1\\\",\\\"key2\\\":\\\"val2\\\"}\"\n",
    "}\n",
    "\n",
    "req_headers = {\n",
    "    \"X-USER-TOKEN\": TOKEN\n",
    "}\n",
    "\n",
    "post_response = requests.post(url=graph_endpoint, json=req_body, headers=req_headers)\n",
    "print(post_response.text)"
   ],
   "id": "170f7ef259531b26",
   "outputs": [
    {
     "name": "stdout",
     "output_type": "stream",
     "text": [
      "{\"message\":\"Success.\",\"isSuccess\":true}\n"
     ]
    }
   ],
   "execution_count": 5
  },
  {
   "metadata": {},
   "cell_type": "markdown",
   "source": [
    "### Python decorators\n",
    "\n",
    "* just a function that wraps another function and gives that wrapped function new functionalities"
   ],
   "id": "533e06dcf3a2418f"
  },
  {
   "metadata": {
    "ExecuteTime": {
     "end_time": "2025-08-13T14:07:15.568867Z",
     "start_time": "2025-08-13T14:07:15.560249Z"
    }
   },
   "cell_type": "code",
   "source": [
    "def header_decorator(function):\n",
    "    def wrapper_function():\n",
    "        print(\"~-----~\")\n",
    "        function()\n",
    "        print()\n",
    "    return wrapper_function\n",
    "\n",
    "@header_decorator\n",
    "def say_hello():\n",
    "    print(\"Hello\")\n",
    "\n",
    "@header_decorator\n",
    "def say_bye():\n",
    "    print(\"Bye\")\n",
    "\n",
    "def say_greeting():\n",
    "    print(\"Greetings\")\n",
    "\n",
    "\n",
    "say_hello()\n",
    "say_bye()\n",
    "say_greeting()\n",
    "\n",
    "\n",
    "print()\n",
    "# ********* advanced example:\n",
    "\n",
    "class User:\n",
    "    def __init__(self, name):\n",
    "        self.name = name\n",
    "        self.is_logged_in = False\n",
    "\n",
    "\n",
    "def is_authenticated_decorator(function):\n",
    "    def wrapper(*args, **kwargs):\n",
    "        if args[0].is_logged_in:\n",
    "            function(args[0])\n",
    "    return wrapper\n",
    "\n",
    "\n",
    "@is_authenticated_decorator\n",
    "def create_blog_post(user: User):\n",
    "    print(f\"New blog post from {user.name}\")\n",
    "\n",
    "\n",
    "new_user = User(\"John\")\n",
    "create_blog_post(new_user)\n",
    "new_user.is_logged_in = True\n",
    "create_blog_post(new_user)\n",
    "\n",
    "\n",
    "print()\n",
    "# ************ advanced example\n",
    "\n",
    "def logging_decorator(function):\n",
    "    def wrapper(*args):\n",
    "        result = function(*args)\n",
    "        print(f\"You called {function.__name__}{args}\\nIt returned: {result}\")\n",
    "        return result\n",
    "    return wrapper\n",
    "\n",
    "\n",
    "@logging_decorator\n",
    "def a_function(*args):\n",
    "    return sum(args)\n",
    "\n",
    "\n",
    "a_function(1,2,3)\n"
   ],
   "id": "1e291613588cda5f",
   "outputs": [
    {
     "name": "stdout",
     "output_type": "stream",
     "text": [
      "~-----~\n",
      "Hello\n",
      "\n",
      "~-----~\n",
      "Bye\n",
      "\n",
      "Greetings\n",
      "\n",
      "New blog post from John\n",
      "\n",
      "You called a_function(1, 2, 3)\n",
      "It returned: 6\n"
     ]
    },
    {
     "data": {
      "text/plain": [
       "6"
      ]
     },
     "execution_count": 3,
     "metadata": {},
     "output_type": "execute_result"
    }
   ],
   "execution_count": 3
  }
 ],
 "metadata": {
  "kernelspec": {
   "display_name": "Python 3",
   "language": "python",
   "name": "python3"
  },
  "language_info": {
   "codemirror_mode": {
    "name": "ipython",
    "version": 2
   },
   "file_extension": ".py",
   "mimetype": "text/x-python",
   "name": "python",
   "nbconvert_exporter": "python",
   "pygments_lexer": "ipython2",
   "version": "2.7.6"
  }
 },
 "nbformat": 4,
 "nbformat_minor": 5
}
