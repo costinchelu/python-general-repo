{
 "cells": [
  {
   "metadata": {
    "ExecuteTime": {
     "end_time": "2025-07-28T09:19:42.227203Z",
     "start_time": "2025-07-28T09:19:42.225120Z"
    }
   },
   "cell_type": "code",
   "source": "import random",
   "id": "af7939d0ea42b557",
   "outputs": [],
   "execution_count": 3
  },
  {
   "metadata": {},
   "cell_type": "markdown",
   "source": [
    "### REPL\n",
    "\n",
    "* access REPL with `python3` command\n",
    "* run `import this` to check out an Easter egg\n",
    "* `_` is used as a special variable that holds the value of the previous expression, provided it's not `None`\n",
    "* exit REPL with `exit()`"
   ],
   "id": "641d36a6b0383af0"
  },
  {
   "metadata": {},
   "cell_type": "markdown",
   "source": "### Input/Output",
   "id": "b62be20f714c2545"
  },
  {
   "metadata": {
    "collapsed": true,
    "ExecuteTime": {
     "end_time": "2025-07-22T11:52:32.623147Z",
     "start_time": "2025-07-22T11:52:29.701138Z"
    }
   },
   "cell_type": "code",
   "source": [
    "name = input(\"What is your name?\\n\")\n",
    "\n",
    "print(\n",
    "    \"Hello\", name, len(name),\n",
    "    sep=\"|\",\n",
    "    end=\"\\n\"\n",
    ")\n",
    "\n",
    "print('''\n",
    " +------+.\n",
    "|`.    | `.\n",
    "|  `+--+---+\n",
    "|   |  |   |\n",
    "+---+--+.  |\n",
    " `. |    `.|\n",
    "   `+------+\n",
    "''')"
   ],
   "id": "initial_id",
   "outputs": [
    {
     "name": "stdout",
     "output_type": "stream",
     "text": [
      "Hello|CC|2\n",
      "\n",
      " +------+.\n",
      "|`.    | `.\n",
      "|  `+--+---+\n",
      "|   |  |   |\n",
      "+---+--+.  |\n",
      " `. |    `.|\n",
      "   `+------+\n",
      "\n"
     ]
    }
   ],
   "execution_count": 2
  },
  {
   "metadata": {},
   "cell_type": "markdown",
   "source": [
    "### Variables, primitive data types and math operators\n",
    "\n",
    "* String (text or character)\n",
    "* Integer\n",
    "* Float\n",
    "* Complex\n",
    "* Boolean\n",
    "* None\n",
    "\n",
    "\n",
    "#### Java vs Python:\n",
    "\n",
    "| Operation         | Java Syntax | Python Syntax | Description                        |\n",
    "|-------------------|------------|--------------|------------------------------------|\n",
    "| Addition          | `+`        | `+`          | Adds two numbers                   |\n",
    "| Subtraction       | `-`        | `-`          | Subtracts right from left          |\n",
    "| Multiplication    | `*`        | `*`          | Multiplies two numbers             |\n",
    "| Division          | `/`        | `/`          | Java: integer or float division\\*  |\n",
    "| Floor Division    | N/A        | `//`         | Integer division (discard fraction)|\n",
    "| Modulo            | `%`        | `%`          | Remainder after division           |\n",
    "| Exponentiation    | `Math.pow` | `**`         | Power (e.g., 2\\*\\*3 = 8)           |\n",
    "\n",
    "* In Java, `/` does integer division if both operands are integers, otherwise float division.\n",
    "* In Python, `/` always does float division; use `//` for integer division.\n",
    "* Exponentiation in Java uses `Math.pow(a, b)`, while Python has its own operator `a ** b`.\n",
    "\n",
    "\n",
    "* Type of variables can be taken from the context.\n",
    "* Even if we specify a type, it will not be enforced by the compiler\n",
    "* Python is a dynamically typed language (type of variable can be changed)\n",
    "* By convention, global scoped variables will be named uppercase with underscores\n",
    "\n",
    "\n",
    "* Though Python is a strongly typed language, the IDE will only check this at run time (dynamic check)\n",
    "* We can create a variable and not even give it a value or type, and we can use the \"None\" type for it (similar to null).\n",
    "* Global variables can be defined outside classes or functions. In Java this would not be possible. Even if the global variable exists, if in one function we use the same named variable we need to declare it global so that the compiler knows this will not be a local variable with the same name as the global one\n",
    "* booleans:\n",
    "    * numerical values that are equal to 0 convert to False, and True otherwise\n",
    "    * empty containers, collections, strings, and bytes objects convert to False, and True otherwise\n",
    "    * the None object converts to False as well\n",
    "    * all other objects evaluate to True"
   ],
   "id": "a71de6466302df9e"
  },
  {
   "metadata": {
    "ExecuteTime": {
     "end_time": "2025-07-24T11:13:40.985954Z",
     "start_time": "2025-07-24T11:13:40.981730Z"
    }
   },
   "cell_type": "code",
   "source": [
    "# subscripting (strings acts like arrays of characters)\n",
    "first = \"Hello\"[0]\n",
    "last = 'Hello'[-1]\n",
    "\n",
    "# floor division (//) ~ as Java 5 / 2\n",
    "# normal division (/) ~ as Java 5.0 / 2\n",
    "an_int = 5 // 2\n",
    "a_float = 5 / 2\n",
    "a_complex = 3 + 4j    # we can use a constructor: a_complex = complex(3, 4)\n",
    "a_bool = True\n",
    "\n",
    "# an_int = 6 + \"t\"\n",
    "# Python is a strongly typed language, so an int cannot be combined to another type, but the interpreter will only find this at run time (we will only get the error when running(dynamic check))\n",
    "\n",
    "\n",
    "# there are also some useful ways to write numbers\n",
    "speed_of_light = 299_792_458\n",
    "us_national_debt = 28.9e+12\n",
    "ascii_symbol = 0x3f\n",
    "input_bitmask = 0b1011_1001\n",
    "\n",
    "\n",
    "# we can even suggest a type (type hinting) though the type will be taken from the context (type inferred)\n",
    "wrong_type: int = \"not int\"\n",
    "\n",
    "\n",
    "# we can create a variable that will have a None type, and then we can change the type/value with whatever we need\n",
    "none_variable = None\n",
    "\n",
    "\n",
    "# reflection: type and isinstance (similar to getClass() and instanceof)\n",
    "# class operator:\n",
    "print(type(first))\n",
    "# isinstance builtin function (there is also a issubclass() function)\n",
    "print(f\"Is instance: {isinstance('string type', str)}\")\n",
    "\n",
    "\n",
    "# type of variable can change (dynamically typed language)\n",
    "first = True\n",
    "print(type(first))\n",
    "print(type(wrong_type))\n",
    "\n",
    "# exponent operation with **:\n",
    "bmi = 76 / 1.8 **2\n",
    "print(bmi)\n",
    "\n",
    "# convertion of type\n",
    "print(int(bmi))\n",
    "\n",
    "\n",
    "# rounding\n",
    "# f-strings\n",
    "print(f\"Your bmi is: {round(bmi, 2)}\")\n",
    "\n",
    "# there is a walrus operator (:=) for assigning values to a variable within an expression\n",
    "print(assign_in_exp:=\"value\")\n",
    "print(assign_in_exp)"
   ],
   "id": "51fffc5c122a834b",
   "outputs": [
    {
     "name": "stdout",
     "output_type": "stream",
     "text": [
      "<class 'str'>\n",
      "Is instance: True\n",
      "<class 'bool'>\n",
      "<class 'str'>\n",
      "23.456790123456788\n",
      "23\n",
      "Your bmi is: 23.46\n",
      "value\n",
      "value\n"
     ]
    }
   ],
   "execution_count": 2
  },
  {
   "metadata": {},
   "cell_type": "markdown",
   "source": [
    "### Comparison\n",
    "\n",
    "\n",
    "| Comparison Type             | Java      | Python |\n",
    "|-----------------------------|-----------|--------|\n",
    "| Content/Value equality      | .equals() | ==     |\n",
    "| Reference/Identity equality | ==        | is     |\n",
    "\n",
    "* Use `==` when you want to check if objects have the same value/content.\n",
    "* Use `is` when you want to check if variables reference the same object in memory."
   ],
   "id": "4f8b4292cb787326"
  },
  {
   "metadata": {},
   "cell_type": "markdown",
   "source": [
    "### Logical operators\n",
    "\n",
    "\n",
    "| Operation      | Java Syntax      | Python Syntax   | Description                        |\n",
    "|----------------|-----------------|----------------|------------------------------------|\n",
    "| AND            | `&&`            | `and`          | True if both operands are true     |\n",
    "| OR             | `\\|\\|`          | `or`           | True if at least one is true       |\n",
    "| NOT            | `!`             | `not`          | Inverts the boolean value          |\n",
    "\n",
    "**Java Example:**\n",
    "\n",
    "```java\n",
    "boolean a = true;\n",
    "boolean b = false;\n",
    "System.out.println(a && b);             // false\n",
    "System.out.println(a || b);             // true\n",
    "System.out.println(!a);                 // false\n",
    "```\n",
    "\n",
    "- Java uses symbols (`&&`, `||`, `!`).\n",
    "- Python uses keywords (`and`, `or`, `not`).\n",
    "- in Python we also have identity operator (is, is not) and membership operator (in, not in)"
   ],
   "id": "cd396385a5c7c9a1"
  },
  {
   "metadata": {
    "ExecuteTime": {
     "end_time": "2025-07-22T11:52:32.733621Z",
     "start_time": "2025-07-22T11:52:32.730848Z"
    }
   },
   "cell_type": "code",
   "source": [
    "a = True\n",
    "b = False\n",
    "print(a and b)\n",
    "print(a or b)\n",
    "print(not a)"
   ],
   "id": "a822fb1d9d8c6cfd",
   "outputs": [
    {
     "name": "stdout",
     "output_type": "stream",
     "text": [
      "False\n",
      "True\n",
      "False\n"
     ]
    }
   ],
   "execution_count": 4
  },
  {
   "metadata": {},
   "cell_type": "markdown",
   "source": [
    "### Data Structures\n",
    "\n",
    "* list\n",
    "* dict\n",
    "* tuple\n",
    "* set"
   ],
   "id": "d397b6db8a56625a"
  },
  {
   "metadata": {},
   "cell_type": "markdown",
   "source": [
    "### Lists\n",
    "\n",
    "Lists hold multiple elements in a specific order. Unlike arrays, they can change in size at any time.\n",
    "\n",
    "* ordered collection of items\n",
    "* mutable\n",
    "* can contain elements of any data type\n",
    "* elements can be accessed by index\n",
    "* allows duplicate elements\n",
    "* can contain any combination of data types\n",
    "* can be nested ( `[[][]]` )"
   ],
   "id": "7590f570c5bcd979"
  },
  {
   "metadata": {
    "ExecuteTime": {
     "end_time": "2025-08-05T10:42:26.411967Z",
     "start_time": "2025-08-05T10:42:26.407959Z"
    }
   },
   "cell_type": "code",
   "source": [
    "numbers = [1, 2, 3, 4, 5]\n",
    "names = [\"Janine\", \"Alison\", \"Alice\", \"John\", \"Adam\"]\n",
    "mixed = [1, 2, \"Max\", 3.141]\n",
    "\n",
    "\n",
    "element_0_names = names[0]                  # get element by index\n",
    "names[0] = \"Peter\"                          # set element at index\n",
    "\n",
    "element_last_names = names[-1]              # use negative indexes to count from the end\n",
    "\n",
    "names.append(-5)                            # add element to the end of the list\n",
    "names.insert(1, \"Bob\")                      # add element at specific index\n",
    "\n",
    "names.remove(-5)                            # remove the first occurrence from the list\n",
    "del names[0]                                # remove by index\n",
    "\n",
    "popped = names.pop()\n",
    "print(f\"popped = {popped}\")\n",
    "print(\"names - popped = \", names)\n",
    "\n",
    "sliced = names[1:]\n",
    "print(\"sliced[1:] = \", sliced)\n",
    "\n",
    "print(\"names size = \", len(names))\n",
    "\n",
    "print(\"check for a name in names = \", \"Alison\" in names)\n",
    "\n",
    "upper_names = [name.upper() for name in names]\n",
    "print(\"uppercased names = \" , upper_names)"
   ],
   "id": "b68c3d788e6e57c7",
   "outputs": [
    {
     "name": "stdout",
     "output_type": "stream",
     "text": [
      "popped = Adam\n",
      "names - popped =  ['Bob', 'Alison', 'Alice', 'John']\n",
      "sliced[1:] =  ['Alison', 'Alice', 'John']\n",
      "names size =  4\n",
      "check for a name in names =  True\n",
      "uppercased names =  ['BOB', 'ALISON', 'ALICE', 'JOHN']\n"
     ]
    }
   ],
   "execution_count": 1
  },
  {
   "metadata": {},
   "cell_type": "markdown",
   "source": [
    "### Dictionaries\n",
    "\n",
    "* key - value store\n",
    "* key-value pairs, ordered (as of Python 3.7+)\n",
    "* mutable\n",
    "* elements accessed by keys\n",
    "* like in the case of lists, any combination of data types are permitted\n",
    "* keys must be unique and immutable, but values may repeat\n",
    "* can be nested( `{{}{}}` )"
   ],
   "id": "17c778e522feb5a1"
  },
  {
   "metadata": {
    "ExecuteTime": {
     "end_time": "2025-07-22T11:52:32.921088Z",
     "start_time": "2025-07-22T11:52:32.918543Z"
    }
   },
   "cell_type": "code",
   "source": [
    "colors = {\n",
    "    1: \"red\",\n",
    "    2: \"blue\",\n",
    "    3: \"yellow\",\n",
    "}\n",
    "\n",
    "print(colors[2])\n",
    "colors[4] = \"violet\"\n",
    "print(colors[4])\n",
    "\n",
    "# add/update\n",
    "colors[4] = \"green\"\n",
    "\n",
    "for key in colors:\n",
    "    print(f\"{key} - {colors[key]}\")\n",
    "\n",
    "for (key, value) in colors.items():\n",
    "    print(f\"{key} -- {value}\")"
   ],
   "id": "aa48f7717e26b690",
   "outputs": [
    {
     "name": "stdout",
     "output_type": "stream",
     "text": [
      "blue\n",
      "violet\n",
      "1 - red\n",
      "2 - blue\n",
      "3 - yellow\n",
      "4 - green\n",
      "1 -- red\n",
      "2 -- blue\n",
      "3 -- yellow\n",
      "4 -- green\n"
     ]
    }
   ],
   "execution_count": 6
  },
  {
   "metadata": {},
   "cell_type": "markdown",
   "source": [
    "#### List/Sequences/Dictionary comprehension\n",
    "\n",
    "* create a new list based on another iterable (works similar to Java's streams in a way)\n",
    "* collection comprehension can do mapping and filtering:\n",
    "    * `new_list = [expression for member in iterable if conditional]`\n",
    "* it also works with other sequences like **strings, range, tuple** for example\n",
    "* widely used instead of loops over lists\n",
    "* can be faster than a for loop (optimized by Python)\n",
    "\n",
    "```python\n",
    "prices = [1.09, 23.56, 57.84, 4.56, 6.78]\n",
    "TAX_RATE = .08\n",
    "def get_price_with_tax(price):\n",
    "    return price * (1 + TAX_RATE)\n",
    "\n",
    "final_prices_list = [get_price_with_tax(price) for price in prices]\n",
    "```\n",
    "\n",
    "* alternatively we can use map function, but this will return a map object that later is converted into a list:\n",
    "\n",
    "```python\n",
    "final_prices_map = map(get_price_with_tax, prices)\n",
    "final_prices_list = list(final_prices)\n",
    "```\n",
    "\n",
    "\n"
   ],
   "id": "7592dc31a94c2f0f"
  },
  {
   "metadata": {
    "ExecuteTime": {
     "end_time": "2025-07-30T07:39:45.014864Z",
     "start_time": "2025-07-30T07:39:45.011208Z"
    }
   },
   "cell_type": "code",
   "source": [
    "odd_numbers = [1, 3, 5]\n",
    "even_numbers = [n + 1 for n in odd_numbers]\n",
    "\n",
    "\n",
    "squares = [number * number for number in range(10)]\n",
    "\n",
    "\n",
    "r = range(1, 5)\n",
    "new_r = [i * 2 for i in r]\n",
    "\n",
    "\n",
    "names = [\"Alex\", \"Beth\", \"Caroline\", \"Dave\", \"Eleanor\", \"Freddie\"]\n",
    "short_uppercase_names_list = [name.upper() for name in names if len(name) < 5]\n",
    "names_with_index_dict = {i: item for i, item in enumerate(names)}\n",
    "\n",
    "\n",
    "sentence = (\n",
    "    \"The rocket, who was named Ted, came back from Mars because he missed his friends.\"\n",
    ")\n",
    "def is_consonant(letter):\n",
    "    vowels = \"aeiou\"\n",
    "    return letter.isalpha() and letter.lower() not in vowels\n",
    "\n",
    "consonant_char_list = [char for char in sentence if is_consonant(char)]\n",
    "\n",
    "\n",
    "student_scores = {student: random.randint(1, 100) for student in names}\n",
    "\n",
    "passed_students = {k: v for (k, v) in student_scores.items() if v >= 60}\n",
    "\n",
    "\n",
    "# can be combined with the walrus operator from Python 3.8:\n",
    "def get_some_data():\n",
    "    return random.randint(90, 110)\n",
    "\n",
    "get_20_greater_values = [temp for _ in range(20) if (temp := get_some_data()) >= 100]\n",
    "\n",
    "\n",
    "generator_sum_to_a_num = sum(num * num for num in range(1_000))\n",
    "\n",
    "\n",
    "nested_list = [[4, 5, 7], [1, 2, 3], [8, 9, 6]]\n",
    "flattened_list = [item ** 2 for inner_list in nested_list for item in inner_list if item % 2 == 0]\n",
    "# equivalent with:\n",
    "flattened_list_2 = []\n",
    "for inner_list in nested_list:\n",
    "    for item in inner_list:\n",
    "        if item % 2 == 0:\n",
    "            flattened_list_2.append(item ** 2)\n"
   ],
   "id": "c7a73992cc3d929f",
   "outputs": [],
   "execution_count": 10
  },
  {
   "metadata": {},
   "cell_type": "markdown",
   "source": [
    "### Sets\n",
    "* unordered collection of unique elements\n",
    "* mutable\n",
    "* elements must be immutable (e.g., numbers, strings, tuples)\n",
    "* does not allow duplicate elements\n",
    "* no indexing or slicing (cannot access elements by position)\n",
    "* supports set operations (union, intersection, difference, etc.)\n",
    "* can be nested only if using frozenset (not regular set)\n",
    "* dynamic size (can grow or shrink)"
   ],
   "id": "6324da7e88285654"
  },
  {
   "metadata": {
    "ExecuteTime": {
     "end_time": "2025-07-22T11:52:32.969204Z",
     "start_time": "2025-07-22T11:52:32.967069Z"
    }
   },
   "cell_type": "code",
   "source": [
    "unique_numbers = {1, 3, 2, 5, 4, 5}\n",
    "\n",
    "unique_numbers.discard(2)\n",
    "\n",
    "print(unique_numbers)"
   ],
   "id": "ebc1c8314dd2a50",
   "outputs": [
    {
     "name": "stdout",
     "output_type": "stream",
     "text": [
      "{1, 3, 4, 5}\n"
     ]
    }
   ],
   "execution_count": 8
  },
  {
   "metadata": {},
   "cell_type": "markdown",
   "source": [
    "### Tuples\n",
    "* ordered collection of items\n",
    "* immutable (cannot be changed after creation)\n",
    "* fixed size (cannot add or remove elements after creation)\n",
    "* can contain elements of any data type\n",
    "* elements can be accessed by index (supports negative indexing)\n",
    "* allows duplicate elements\n",
    "* supports nesting (tuples within tuples)\n",
    "* can be used as dictionary keys if all elements are immutable\n",
    "* supports slicing and iteration"
   ],
   "id": "63f8020f6de6e40b"
  },
  {
   "metadata": {
    "ExecuteTime": {
     "end_time": "2025-07-22T11:52:33.004047Z",
     "start_time": "2025-07-22T11:52:33.002157Z"
    }
   },
   "cell_type": "code",
   "source": [
    "fruit_tuple = (\"banana\", \"orange\", \"melon\")\n",
    "print(fruit_tuple[2])"
   ],
   "id": "95f95323d227959f",
   "outputs": [
    {
     "name": "stdout",
     "output_type": "stream",
     "text": [
      "melon\n"
     ]
    }
   ],
   "execution_count": 9
  },
  {
   "metadata": {},
   "cell_type": "markdown",
   "source": "### Control flow",
   "id": "50496e103d4c77d6"
  },
  {
   "metadata": {
    "ExecuteTime": {
     "end_time": "2025-07-22T11:52:33.033494Z",
     "start_time": "2025-07-22T11:52:33.030852Z"
    }
   },
   "cell_type": "code",
   "source": [
    "random_int = random.randint(1, 20)\n",
    "\n",
    "if random_int <= 7:\n",
    "    print(\"if |\", random_int)\n",
    "elif 7 < random_int < 14:\n",
    "    print(\"elif |\", random_int)\n",
    "else:\n",
    "    print(\"else |\", random_int)"
   ],
   "id": "a471a7e47f966275",
   "outputs": [
    {
     "name": "stdout",
     "output_type": "stream",
     "text": [
      "if | 2\n"
     ]
    }
   ],
   "execution_count": 10
  },
  {
   "metadata": {},
   "cell_type": "markdown",
   "source": [
    "### For Loops\n",
    "\n",
    "* for loops have the \"for each\" form or can have a predefined number of passes (using the range)\n",
    "* there is no block scope in Python (compared to Java)\n",
    "* and so even if we define a variable inside a block (if, while, for), it will still be visible outside the block"
   ],
   "id": "9d6de9e42112a401"
  },
  {
   "metadata": {
    "ExecuteTime": {
     "end_time": "2025-07-22T11:52:33.058566Z",
     "start_time": "2025-07-22T11:52:33.055731Z"
    }
   },
   "cell_type": "code",
   "source": [
    "fruits = [\"apple\", \"banana\", \"cherry\"]\n",
    "scores = [34, 56, 78, 32, 45, 67, 89, 33, 24, 78, 21, 33, 67, 65]\n",
    "\n",
    "for fruit in fruits:\n",
    "    print(fruit)\n",
    "\n",
    "# 0 1 2 3 4 (default step of 1)\n",
    "for it in range(5):\n",
    "    print(it)\n",
    "\n",
    "# 10, 11, 12, 13, 14\n",
    "for it in range(10, 15):\n",
    "    print(it)\n",
    "\n",
    "# 0 2 4 (step of 2)\n",
    "for it in range(0, 5, 2):\n",
    "    print(it)\n",
    "\n",
    "\n",
    "# builtins\n",
    "sum_of_scores = sum(scores)\n",
    "max_of_scores = max(scores)"
   ],
   "id": "a014f63bc0a3b9b",
   "outputs": [
    {
     "name": "stdout",
     "output_type": "stream",
     "text": [
      "apple\n",
      "banana\n",
      "cherry\n",
      "0\n",
      "1\n",
      "2\n",
      "3\n",
      "4\n",
      "10\n",
      "11\n",
      "12\n",
      "13\n",
      "14\n",
      "0\n",
      "2\n",
      "4\n"
     ]
    }
   ],
   "execution_count": 11
  },
  {
   "metadata": {},
   "cell_type": "markdown",
   "source": [
    "### While Loop\n",
    "\n",
    "* Python has no `do while` loop construct"
   ],
   "id": "ee931e52c0f5fcba"
  },
  {
   "metadata": {
    "ExecuteTime": {
     "end_time": "2025-07-22T11:52:33.082910Z",
     "start_time": "2025-07-22T11:52:33.080981Z"
    }
   },
   "cell_type": "code",
   "source": [
    "it = 5\n",
    "\n",
    "while it > 0:\n",
    "    print(it)\n",
    "    it -= 1\n",
    "\n",
    "\n",
    "while it >= 0:\n",
    "    it += 1\n",
    "    if it == 3:\n",
    "        break\n",
    "print(it)"
   ],
   "id": "2dd981f837b2d24f",
   "outputs": [
    {
     "name": "stdout",
     "output_type": "stream",
     "text": [
      "5\n",
      "4\n",
      "3\n",
      "2\n",
      "1\n",
      "3\n"
     ]
    }
   ],
   "execution_count": 12
  },
  {
   "metadata": {},
   "cell_type": "markdown",
   "source": "### Switch Loop",
   "id": "5e5f9c8c798cf6b8"
  },
  {
   "metadata": {
    "ExecuteTime": {
     "end_time": "2025-07-22T11:52:33.102867Z",
     "start_time": "2025-07-22T11:52:33.100224Z"
    }
   },
   "cell_type": "code",
   "source": [
    "name = \"Jane\"\n",
    "\n",
    "match name:\n",
    "    case \"John\":\n",
    "        name += \".\"\n",
    "    case \"Jane\":\n",
    "        name += \"..\"\n",
    "    case _:\n",
    "        raise RuntimeError(\"Name error\")\n",
    "\n",
    "print(name)"
   ],
   "id": "2a7ddb7cc37ad600",
   "outputs": [
    {
     "name": "stdout",
     "output_type": "stream",
     "text": [
      "Jane..\n"
     ]
    }
   ],
   "execution_count": 13
  },
  {
   "metadata": {},
   "cell_type": "markdown",
   "source": [
    "### Functions\n",
    "\n",
    "* from a Java perspective, Python functions are like static methods, and you don’t necessarily need to define them within a class\n",
    "* functions don't have the self argument\n",
    "* if we don't specify parameter type, then Any is the defined type\n",
    "* even if we specify the param type, we can call the function with another argument type\n",
    "* we can even change the order of the arguments in a call, by explicitly specifying the parameter name\n",
    "* mutable objects (like list, dict) can be affected by changes inside the function\n",
    "    * but if we pass immutable objects (like int, string, tuple), then even if we mutate them inside the function, this will not change the original object\n",
    "* in a py file a called function must be defined in the lines before the calling line\n",
    "* Python functions can't be overloaded\n",
    "* function names are first-class objects:\n",
    "    * we can assign them to variables\n",
    "    * higher order functions: pass functions as arguments to other functions\n",
    "        * when passing functions, we don't put round brackets after function name\n",
    "    * return them from functions\n",
    "    * store them in data structures\n",
    "    * use them as decorators or callbacks\n",
    "* Python supports closures and higher-order functions natively\n",
    "* there is a positional args mechanism like in Java, but there is also a mechanism of kwargs (keyword arguments)\n",
    "    * in Java *args are in the form of an array, but in Python it is a tuple\n",
    "    * classic arguments are keyword arguments (normally specified in the function/method definition)\n",
    "    * we can use them in the defined order, or we can use a label to name the argument (and in this case the order is not important)\n",
    "    * these arguments can have default values (if we hover over we can see ... for those arguments)\n",
    "* in case we define functions inside classes -> methods these will have a first argument called \"self\"\n"
   ],
   "id": "9ce8239e05e9fe0"
  },
  {
   "metadata": {
    "ExecuteTime": {
     "end_time": "2025-07-22T11:52:33.154701Z",
     "start_time": "2025-07-22T11:52:33.151002Z"
    }
   },
   "cell_type": "code",
   "source": [
    "arg1 = \"John\"\n",
    "arg2 = \"Doe\"\n",
    "arg3 = 5\n",
    "\n",
    "def function_with_any_param(param1, param2):\n",
    "    print(\"This is a function with params:\", param1, param2, sep=\" \")\n",
    "\n",
    "\n",
    "def function_with_defined_param(param1: str, param2: int):\n",
    "    print(\"This is a function with defined params:\", param1, param2, sep=\" \")\n",
    "\n",
    "# we can specify the return type using ->\n",
    "def function_with_return_type() -> str:\n",
    "    return arg1\n",
    "\n",
    "\n",
    "def function_with_default_value_param(x=5):\n",
    "    return x**2\n",
    "\n",
    "\n",
    "def function_returning_something_or_none(f_name, l_name):\n",
    "    \"\"\"\n",
    "        This is a docstring.\\n\n",
    "        It is possible to have a function returning two types.\n",
    "        In this case it is str | None\n",
    "    \"\"\"\n",
    "    if f_name == \"\" or l_name == \"\":\n",
    "        return \"You didn't provide valid inputs.\"\n",
    "    print(f\"Result: {f_name.title()} {l_name.title()}\")\n",
    "    return None\n",
    "\n",
    "\n",
    "def function_with_inner_function(outer_a, outer_b):\n",
    "    def inner_function(inner_a, inner_b):\n",
    "        return inner_a + inner_b\n",
    "    return inner_function(outer_a, outer_b)\n",
    "\n",
    "def using_args_and_kwargs(*args, **kwargs):\n",
    "    print(\"args:\", args)\n",
    "    print(\"kwargs:\", kwargs)\n",
    "\n",
    "\n",
    "def empty_function():\n",
    "    pass\n",
    "\n",
    "def surface_area_of_cube(edge_length: float) -> str:\n",
    "    \"\"\"\n",
    "    Type hinting for parameters and return type.\n",
    "    The Python runtime does not enforce function and variable type annotations.\n",
    "    They can be used by third party tools such as type checkers, IDEs, linters, etc.\n",
    "    \"\"\"\n",
    "    return f\"The surface area of the cube is {6 * edge_length ** 2}.\"\n",
    "\n",
    "function_with_any_param(arg1, arg2)\n",
    "\n",
    "function_with_defined_param(arg1, arg3)\n",
    "\n",
    "function_with_defined_param(param2=arg3, param1=arg1)\n",
    "\n",
    "print(function_with_return_type())\n",
    "\n",
    "print(function_with_default_value_param(4))\n",
    "print(function_with_default_value_param())\n",
    "\n",
    "print(function_returning_something_or_none(\"\", \"\"))\n",
    "function_returning_something_or_none(\"ab\", \"ba\")\n",
    "\n",
    "using_args_and_kwargs(1, 2, a=3, b=4)"
   ],
   "id": "c15e15c365c0f855",
   "outputs": [
    {
     "name": "stdout",
     "output_type": "stream",
     "text": [
      "This is a function with params: John Doe\n",
      "This is a function with defined params: John 5\n",
      "This is a function with defined params: John 5\n",
      "John\n",
      "16\n",
      "25\n",
      "You didn't provide valid inputs.\n",
      "Result: Ab Ba\n",
      "args: (1, 2)\n",
      "kwargs: {'a': 3, 'b': 4}\n"
     ]
    }
   ],
   "execution_count": 14
  },
  {
   "metadata": {},
   "cell_type": "markdown",
   "source": "### Lambda function",
   "id": "659dca55048a38e3"
  },
  {
   "metadata": {
    "ExecuteTime": {
     "end_time": "2025-07-22T11:52:33.187835Z",
     "start_time": "2025-07-22T11:52:33.185902Z"
    }
   },
   "cell_type": "code",
   "source": [
    "multiply = lambda arg_a, arg_b: arg_a * arg_b\n",
    "\n",
    "print(multiply(2, 3))"
   ],
   "id": "f6db3361d3209469",
   "outputs": [
    {
     "name": "stdout",
     "output_type": "stream",
     "text": [
      "6\n"
     ]
    }
   ],
   "execution_count": 15
  },
  {
   "metadata": {},
   "cell_type": "markdown",
   "source": [
    "### OOP - Classes\n",
    "\n",
    "* class name is by convention Pascal case\n",
    "* methods/functions and attributes are by convention snake case\n",
    "* `__init__` method is the constructor\n",
    "* we can have normal and default attributes defined in the constructor\n",
    "* all methods will have as a first parameter `self`\n",
    "    * each one either creates or refers to the attribute\n",
    "    * if you omit self, then Python will create a local variable instead of an attribute\n",
    "* everything is public in Python\n",
    "    * non-public attributes starts with an underscore - but using an underscore in the beginning an attribute name is just a convention, others can still access the attribute anyway\n",
    "    * IDE will just issue a warning\n",
    "* using double quotes will make accessing the attribute more difficult as Python will \"hide\" it under a more complex formulation\n",
    "* in Python, properties provide controllable access to class attributes using Python decorator syntax\n",
    "    * properties allow functions to be declared in Python classes that are analogous to Java getter and setter methods, with the added bonus of allowing you to delete attributes as well.\n",
    "* there is the concept of \"dunder\" methods that exists in all classes with a default implementation but can be overridden as needed\n",
    "    * similar to Java's Object default methods like toString hashCode() and equals().\n",
    "-----\n",
    "In Java, not everything is an object, despite the fact that the only place where you can put your code is inside a Java class. For example, the Java primitive 42 isn’t an object.\n",
    "\n",
    "Just like Java, Python also fully supports an object-oriented style of programming. Different from Java is that everything is an object in Python. Some examples of Python objects are:\n",
    "* Numeric values\n",
    "* Documentation strings\n",
    "* Functions and methods\n",
    "* Modules\n",
    "* Stack tracebacks\n",
    "* Byte-compiled code objects\n",
    "* Classes themselves\n",
    "\n",
    "Because they’re objects, you can store all of these in variables, pass them around, and introspect them at runtime."
   ],
   "id": "b18569e9e090d867"
  },
  {
   "metadata": {
    "ExecuteTime": {
     "end_time": "2025-07-22T11:52:33.212355Z",
     "start_time": "2025-07-22T11:52:33.209583Z"
    }
   },
   "cell_type": "code",
   "source": [
    "class User:\n",
    "\n",
    "    def __init__(self, id: str, name: str):\n",
    "        self.id = id\n",
    "        self.name = name\n",
    "        self.followers = 0\n",
    "        self.following = 0\n",
    "        self._non_public = \"non public attribute. Can still be accessed by others though\"\n",
    "        self.__non_public_concealed = \"can still be access from outside but more difficult: user1._User__non_public_concealed\"\n",
    "\n",
    "def follow(self, user):\n",
    "        user.followers += 1\n",
    "        self.following += 1\n",
    "\n",
    "\n",
    "user_1 = User(\"001\", \"John\")\n",
    "user_2 = User(\"002\", \"Mary\")\n",
    "\n",
    "user_1.follow(user_2)\n",
    "\n",
    "print(f\"user_1 {user_1.followers} {user_1.following} user_2 {user_2.followers} {user_2.following}\")\n",
    "\n",
    "\n",
    "class Car:\n",
    "    def __init__(self, color, model, year):\n",
    "        self.color = color\n",
    "        self.model = model\n",
    "        self.year = year\n",
    "        self._voltage = 12\n",
    "\n",
    "    # \"dunder\" method __str__, here overridden (__str__ is similar to toString() in Java)\n",
    "    def __str__(self):\n",
    "        return f'Car {self.color} : {self.model} : {self.year}'\n",
    "\n",
    "    # using decorators:\n",
    "    @property\n",
    "    def voltage(self):\n",
    "        return self._voltage\n",
    "\n",
    "    @voltage.setter\n",
    "    def voltage(self, volts):\n",
    "        print(\"Warning: this can cause problems!\")\n",
    "        self._voltage = volts\n",
    "\n",
    "    @voltage.deleter\n",
    "    def voltage(self):\n",
    "        print(\"Warning: the radio will stop working!\")\n",
    "        del self._voltage\n",
    "\n",
    "\n",
    "my_car = Car(\"yellow\", \"beetle\", 1969)\n",
    "\n",
    "print(f\"My car uses {my_car.voltage} volts\")\n",
    "# My car uses 12 volts\n",
    "\n",
    "my_car.voltage = 6\n",
    "# Warning: this can cause problems!\n",
    "\n",
    "print(f\"My car now uses {my_car.voltage} volts\")\n",
    "# My car now uses 6 volts\n",
    "\n",
    "del my_car.voltage\n",
    "# the radio will stop working!"
   ],
   "id": "4f980107d628d60c",
   "outputs": [
    {
     "name": "stdout",
     "output_type": "stream",
     "text": [
      "user_1 0 1 user_2 1 0\n"
     ]
    }
   ],
   "execution_count": 16
  },
  {
   "metadata": {},
   "cell_type": "markdown",
   "source": [
    "### OOP - Inheritance\n",
    "\n",
    "* parent class will be named between the round brackets\n",
    "* we need to call super() in the child class constructor\n",
    "* Python supports multiple inheritance"
   ],
   "id": "db3407bd30e72b10"
  },
  {
   "metadata": {
    "ExecuteTime": {
     "end_time": "2025-07-24T11:17:05.135003Z",
     "start_time": "2025-07-24T11:17:05.131468Z"
    }
   },
   "cell_type": "code",
   "source": [
    "class Animal:\n",
    "\n",
    "    def __init__(self, name: str):\n",
    "        self.name = name\n",
    "\n",
    "    def breathe(self):\n",
    "        print(\"Inhale, exhale.\")\n",
    "\n",
    "\n",
    "class Fish(Animal):\n",
    "\n",
    "    # first, initialize every parent class, then initialize Fish class's own properties\n",
    "    def __init__(self, name: str):\n",
    "        super().__init__(name)\n",
    "        self.swims = True\n",
    "\n",
    "    # override method in parent class\n",
    "    def breathe(self):\n",
    "        super().breathe()\n",
    "        print(\"Doing this underwater.\")\n",
    "\n",
    "\n",
    "nemo = Fish(\"Clown fish\")\n",
    "print(nemo.name)\n",
    "print(f\"Is Fish class a subclass of Animal? {issubclass(Fish, Animal)}\")\n",
    "nemo.breathe()"
   ],
   "id": "6acf9db2db944a8f",
   "outputs": [
    {
     "name": "stdout",
     "output_type": "stream",
     "text": [
      "Clown fish\n",
      "Is Fish class a subclass of Animal? True\n",
      "Inhale, exhale.\n",
      "Doing this underwater.\n"
     ]
    }
   ],
   "execution_count": 6
  },
  {
   "metadata": {},
   "cell_type": "markdown",
   "source": [
    "### Handling errors\n",
    "\n",
    "Syntax:\n",
    "\n",
    "```\n",
    "\n",
    "try:\n",
    "    print(\"some block of code that my cause an exception\")\n",
    "except Esception as e:\n",
    "    print(\"do this if there is an exception (multiple except blocks, for each error type can be created)\")\n",
    "else:\n",
    "    print(\"do this if there were no exceptions, after the try block runs\")\n",
    "finally:\n",
    "    print(\"do this no matter what happes\")\n",
    "```"
   ],
   "id": "1f26c9817c99debe"
  },
  {
   "metadata": {
    "ExecuteTime": {
     "end_time": "2025-07-22T12:34:59.780887Z",
     "start_time": "2025-07-22T12:34:59.768086Z"
    }
   },
   "cell_type": "code",
   "source": [
    "try:\n",
    "    a_file = open(\"a_file.txt\")\n",
    "    a_dict = {\"k\": \"v\"}\n",
    "    print(a_dict[\"no-key\"])\n",
    "except FileNotFoundError as fnfe:\n",
    "    print(\"File is not found\")\n",
    "    print(type(fnfe))\n",
    "except KeyError as ke:\n",
    "    print(\"No key found\")\n",
    "    print(type(ke))\n",
    "else:\n",
    "    print(\"Run this after the try block\")\n",
    "finally:\n",
    "    print(\"Close any opened resources\")\n",
    "\n",
    "\n",
    "try:\n",
    "    print(\"some try block\")\n",
    "except:\n",
    "    print(\"It will not raise any exception\")\n",
    "else:\n",
    "    raise Exception(\"Raised an exception\")\n"
   ],
   "id": "4e4eafc6a89a4d88",
   "outputs": [
    {
     "name": "stdout",
     "output_type": "stream",
     "text": [
      "File is not found\n",
      "<class 'FileNotFoundError'>\n",
      "Close any opened resources\n",
      "some try block\n"
     ]
    },
    {
     "ename": "Exception",
     "evalue": "Raised an exception",
     "output_type": "error",
     "traceback": [
      "\u001B[31m---------------------------------------------------------------------------\u001B[39m",
      "\u001B[31mException\u001B[39m                                 Traceback (most recent call last)",
      "\u001B[36mCell\u001B[39m\u001B[36m \u001B[39m\u001B[32mIn[23]\u001B[39m\u001B[32m, line 21\u001B[39m\n\u001B[32m     19\u001B[39m     \u001B[38;5;28mprint\u001B[39m(\u001B[33m\"\u001B[39m\u001B[33mIt will not raise any exception\u001B[39m\u001B[33m\"\u001B[39m)\n\u001B[32m     20\u001B[39m \u001B[38;5;28;01melse\u001B[39;00m:\n\u001B[32m---> \u001B[39m\u001B[32m21\u001B[39m     \u001B[38;5;28;01mraise\u001B[39;00m \u001B[38;5;167;01mException\u001B[39;00m(\u001B[33m\"\u001B[39m\u001B[33mRaised an exception\u001B[39m\u001B[33m\"\u001B[39m)\n",
      "\u001B[31mException\u001B[39m: Raised an exception"
     ]
    }
   ],
   "execution_count": 23
  }
 ],
 "metadata": {
  "kernelspec": {
   "display_name": "Python 3",
   "language": "python",
   "name": "python3"
  },
  "language_info": {
   "codemirror_mode": {
    "name": "ipython",
    "version": 2
   },
   "file_extension": ".py",
   "mimetype": "text/x-python",
   "name": "python",
   "nbconvert_exporter": "python",
   "pygments_lexer": "ipython2",
   "version": "2.7.6"
  }
 },
 "nbformat": 4,
 "nbformat_minor": 5
}
